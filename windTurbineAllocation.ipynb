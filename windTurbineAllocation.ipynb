{
  "nbformat": 4,
  "nbformat_minor": 0,
  "metadata": {
    "colab": {
      "provenance": [],
      "collapsed_sections": [],
      "include_colab_link": true
    },
    "kernelspec": {
      "name": "python3",
      "display_name": "Python 3"
    },
    "language_info": {
      "name": "python"
    }
  },
  "cells": [
    {
      "cell_type": "markdown",
      "metadata": {
        "id": "view-in-github",
        "colab_type": "text"
      },
      "source": [
        "<a href=\"https://colab.research.google.com/github/mandrecki/fun_notebooks/blob/main/windTurbineAllocation.ipynb\" target=\"_parent\"><img src=\"https://colab.research.google.com/assets/colab-badge.svg\" alt=\"Open In Colab\"/></a>"
      ]
    },
    {
      "cell_type": "code",
      "execution_count": null,
      "metadata": {
        "id": "IwQt5p25zrWp"
      },
      "outputs": [],
      "source": [
        "#!/usr/bin/env python\n",
        "# coding: utf-8\n",
        "\n",
        "# In[1]:\n",
        "\n",
        "\n",
        "import numpy as np\n",
        "import numpy.matlib\n",
        "import time\n",
        "import matplotlib.pyplot as plt\n",
        "from IPython import display\n",
        "# Define parameters\n",
        "\n",
        "# Starting point\n",
        "nObj = 10; #Number of turbines\n",
        "#startCoord = np.array([0.5, 0.5]); #Square area\n",
        "startCoord = np.array([498, 580])/1000; #POLSKA !!\n",
        "initDist = 0.05; # Initial radius around the centre point\n",
        "angleSeed = np.linspace(0, 2*np.pi, nObj, endpoint = False); #Distribute points around the centre point\n",
        "# Generate initial position\n",
        "objCoords = np.array([initDist*np.cos(angleSeed)+startCoord[0], initDist*np.sin(angleSeed)+startCoord[1]]);\n",
        "objVel = np.zeros((2, nObj)); #Prealloate velocities\n",
        "\n",
        "# Bounded area\n",
        "#edgeNodes = np.array([[0, 0], [1, 0], [1, 1], [0, 1]]); # Square\n",
        "edgeNodes = np.array([[57, 145], [70, 627], [453, 873], [855, 945], [974, 682], [881, 102], [462, 104], [448, 27]])/1000; #POLSKA !!\n",
        "edgeNodes = np.append(edgeNodes, [edgeNodes[0,:]], axis=0); # Add the first point to loop the shape\n",
        "edgeParams = numpy.empty((3, edgeNodes.shape[0]-1)); #Preallocate the equation of edge normal\n",
        "edgeDirVec = numpy.empty((2, edgeNodes.shape[0]-1)); #Not needed really\n",
        "for ii in range(0, edgeParams.shape[1]): #Loop for every edge\n",
        "    edgeDirVec[:,ii] = np.array([edgeNodes[ii+1,0]-edgeNodes[ii,0], edgeNodes[ii+1,1]-edgeNodes[ii,1]]); #Find the equation of the edge segment\n",
        "    k = edgeDirVec[0,ii]*edgeNodes[ii,1]-edgeDirVec[1,ii]*edgeNodes[ii,0] #Find the constant term in the normal equation\n",
        "    edgeParams[:,ii] = [edgeDirVec[1,ii], -edgeDirVec[0,ii], k]/(edgeDirVec[1,ii]**2+edgeDirVec[0,ii]**2)**0.5; #Generate equation of normal ax+by+k = 0\n",
        "    if np.cross(edgeDirVec[:,ii], edgeParams[0:2,ii]) > 0: #Check if normal if facing inwards of the bounded area\n",
        "        edgeParams[0:2, ii] = -edgeParams[0:2, ii];\n",
        "\n",
        "#print(edgeParams[0:2,:])\n",
        "\n",
        "# Simulation parameters\n",
        "dt = 0.01; #integration time\n",
        "tMax = 15; #Max time of simulation\n",
        "t = 0.0; #Current time\n",
        "m = 1000.0; #Mass of particles\n",
        "alpha = 200.0; #Relaxation time of velocity (artificial damping)\n",
        "\n",
        "\n",
        "\n",
        "\n",
        "\n"
      ]
    },
    {
      "cell_type": "code",
      "source": [
        "# Calculate distances between all turbines\n",
        "def calculateDistanceToOthers(objNum, objsCoords):\n",
        "    #Add valid indicies (remove self distance)\n",
        "    validIdx = np.arange(objsCoords.shape[1]);\n",
        "    validIdx = np.delete(validIdx, objNum);\n",
        "    directionVector = np.array([objsCoords[0, objNum]-objsCoords[0,validIdx], objsCoords[1, objNum]-objsCoords[1,validIdx]]);\n",
        "    distance = (directionVector[0,:]**2+directionVector[1,:]**2)**0.5;\n",
        "    directionVersor = np.divide(directionVector, np.matlib.repmat(distance, 2, 1));\n",
        "    return distance, directionVersor\n",
        "\n",
        "#Calculate distance from one turbine to all edges\n",
        "def calculateDistanceToEdges(objCoords, edgeNodes):\n",
        "    # Algo from https://stackoverflow.com/questions/849211/shortest-distance-between-a-point-and-a-line-segment\n",
        "    edgeDir = np.diff(edgeNodes,axis=0);\n",
        "    l2 = edgeDir[:,0]**2+edgeDir[:,1]**2;\n",
        "    # If the point is closest to the line section of the edge\n",
        "    edgeSectionDomain = np.divide(np.einsum(\"ij,ij->i\", np.matlib.repmat(objCoords,edgeNodes.shape[0]-1,1) - edgeNodes[:-1,:], edgeNodes[1:,:] - edgeNodes[:-1,:]), l2);\n",
        "    # Check where the point projects to\n",
        "    beyondDistance = np.amin(np.concatenate((np.ones((edgeNodes.shape[0]-1,)), edgeSectionDomain)).reshape(2,-1), axis=0);\n",
        "    t = np.amax(np.concatenate((np.zeros(edgeNodes.shape[0]-1,), beyondDistance)).reshape(2,-1), axis=0);\n",
        "    projection = edgeNodes[:-1,:] + np.array([t,t]).transpose() *  (edgeNodes[1:,:] - edgeNodes[:-1,:]);\n",
        "    distance = ((objCoords[0]-projection[:,0])**2+(objCoords[1]-projection[:,1])**2)**0.5;\n",
        "    return distance\n",
        "\n",
        "#Calculate acting force\n",
        "def calculateActingForce(distObjs, directObjs, distEdge, edgeParams):\n",
        "    #Between objects\n",
        "    magObjs = 1/distObjs**2;\n",
        "    FxObjs = np.multiply(directObjs[0,:], magObjs);\n",
        "    FyObjs = np.multiply(directObjs[1,:], magObjs);\n",
        "    #Between object and edges\n",
        "    magEdges = 0.01/distEdge**4;\n",
        "    dirEdges = edgeParams[0:2,:];\n",
        "    FxEdges = np.multiply(dirEdges[0,:], magEdges);\n",
        "    FyEdges = np.multiply(dirEdges[1,:], magEdges);\n",
        "    force = np.array([FxObjs.sum()+FxEdges.sum(), FyObjs.sum()+FyEdges.sum()]);\n",
        "    return force"
      ],
      "metadata": {
        "id": "hF8cYDBE1FfK"
      },
      "execution_count": null,
      "outputs": []
    },
    {
      "cell_type": "code",
      "source": [
        "# Plot original state\n",
        "fig, ax = plt.subplots()\n",
        "plt.ion()\n",
        "ax.set_aspect('equal', adjustable='box')\n",
        "\n",
        "# Plot bounding area\n",
        "for ii in range(0,edgeParams.shape[1]):\n",
        "    ax.plot([edgeNodes[ii][0], edgeNodes[ii+1][0]], [edgeNodes[ii][1], edgeNodes[ii+1][1]], linewidth=2.0)  \n",
        "\n",
        "# Plot original seeds\n",
        "plot1,  = ax.plot(objCoords[0,:], objCoords[1,:],ms=10,color='k',marker='o',ls='');\n",
        "ax.axis('equal')\n",
        "#fig\n",
        "#plt.show();\n",
        "plt.xlim([0, 1]);\n",
        "plt.ylim([0, 1]);\n",
        "ax.invert_yaxis()\n",
        "# Loop until the end of simulation\n",
        "k = 0; # Plot update numerator\n",
        "while t<tMax:\n",
        "    # Calculate force for each wind turbine (should be vectorised in future)\n",
        "    for ii in range(0, nObj):\n",
        "        r, direct = calculateDistanceToOthers(ii, objCoords); #Get distance and direction to all other turbines\n",
        "        rEdge = calculateDistanceToEdges(objCoords[:, ii], edgeNodes); #Get distance to the edges\n",
        "        F = calculateActingForce(r, direct, rEdge, edgeParams); #Calculate the forces\n",
        "        objVel[:,ii] = objVel[:,ii] + F/m*dt; #Update the velocity through acceleration\n",
        "    objVel = objVel*np.exp(-dt/alpha); #Add damping to velocity to eventually remove kinematic energy\n",
        "    objCoords = objCoords + objVel*dt; #Update positions of all particles\n",
        "    t += dt; #Increment time\n",
        "    #Update plots\n",
        "    if (k % 50) == 0:\n",
        "        plot1.set_xdata(objCoords[0,:])\n",
        "        plot1.set_ydata(objCoords[1,:])\n",
        "        display.display(plt.gcf())\n",
        "        display.clear_output(wait=True)\n",
        "\n",
        "        #time.sleep(1);"
      ],
      "metadata": {
        "id": "N3Biq4Gw1IgR"
      },
      "execution_count": null,
      "outputs": []
    }
  ]
}